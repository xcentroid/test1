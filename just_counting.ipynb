{
 "cells": [
  {
   "cell_type": "code",
   "execution_count": 4,
   "metadata": {},
   "outputs": [],
   "source": [
    "import csv\n",
    "import datetime\n",
    "\n",
    "# load datum from csv\n",
    "with open('scaled.csv') as f:\n",
    "    reader = csv.DictReader(f)\n",
    "    datum = [row for row in reader]\n",
    "\n",
    "# format of datetime\n",
    "fmt = '%Y-%m-%dT%H:%M:%S'\n",
    "\n",
    "# information for each weekdays (0=Mon, 1=Tue, ..., 6=Sun)\n",
    "week_info = [[] for _ in range(7)]\n",
    "\n",
    "# get data and create week_info\n",
    "for data in datum:\n",
    "    st = data['startDateTime']\n",
    "    ed = data['endDateTime']\n",
    "    st = datetime.datetime.strptime(st[:st.find('+')], fmt)\n",
    "    ed = datetime.datetime.strptime(ed[:ed.find('+')], fmt)\n",
    "    wkd = st.weekday()\n",
    "    st = st.time()\n",
    "    ed = ed.time()\n",
    "    week_info[wkd].append((st, ed))"
   ]
  },
  {
   "cell_type": "code",
   "execution_count": 5,
   "metadata": {},
   "outputs": [],
   "source": [
    "from collections import OrderedDict\n",
    "\n",
    "# function for counting how many times the time is in the range of (startTime, endTime)\n",
    "def count_time(time_info):\n",
    "    d = OrderedDict([(datetime.time(h, m), 0) for h in range(24) for m in range(0, 60, 5)])\n",
    "    for st, ed in time_info:\n",
    "        for k in d.keys():\n",
    "            if st <= ed and st <= k and k <= ed:\n",
    "                d[k] += 1\n",
    "            # if the meeting spread across 2 days , endTime may be earlier than startTime\n",
    "            elif st > ed and (st <= k or k <= ed):\n",
    "                d[k] += 1\n",
    "    return d"
   ]
  },
  {
   "cell_type": "code",
   "execution_count": 6,
   "metadata": {},
   "outputs": [],
   "source": [
    "# function for getting the time whose count is maximum\n",
    "def get_max_count(weekday):\n",
    "    info = week_info[weekday]\n",
    "    if len(info) == 0:\n",
    "        print('there are no data for weekday: {}'.format(weekday))\n",
    "        return\n",
    "    count = count_time(info)\n",
    "    max_value = max(count.values())\n",
    "    max_keys = [key for key in count.keys() if count[key] == max_value]\n",
    "    # if you want to return all max keys , return max_keys\n",
    "    return max_keys[0]"
   ]
  },
  {
   "cell_type": "code",
   "execution_count": 8,
   "metadata": {},
   "outputs": [],
   "source": [
    "# function for getting the time whose count is minimum\n",
    "def get_min_count(weekday):\n",
    "    info = week_info[weekday]\n",
    "    if len(info) == 0:\n",
    "        print('there are no data for weekday: {}'.format(weekday))\n",
    "        return\n",
    "    count = count_time(info)\n",
    "    min_value = min(count.values())\n",
    "    min_keys = [key for key in count.keys() if count[key] == min_value]\n",
    "    # if you want to return all max keys , return max_keys\n",
    "    return min_keys[0]"
   ]
  },
  {
   "cell_type": "code",
   "execution_count": 11,
   "metadata": {},
   "outputs": [
    {
     "name": "stdout",
     "output_type": "stream",
     "text": [
      "Mon \n",
      "timeslot 10:00:00\n",
      "\n",
      "Tue \n",
      "timeslot 12:00:00\n",
      "\n",
      "Wed \n",
      "timeslot 21:10:00\n",
      "\n",
      "Thu \n",
      "timeslot 00:00:00\n",
      "\n",
      "Fri \n",
      "timeslot 00:00:00\n",
      "\n",
      "Sat \n",
      "timeslot 02:20:00\n",
      "\n",
      "Sun \n",
      "timeslot 00:00:00\n",
      "\n"
     ]
    }
   ],
   "source": [
    "# print the result for test data\n",
    "names_of_weekday = ['Mon', 'Tue', 'Wed', 'Thu', 'Fri', 'Sat', 'Sun']\n",
    "for i, name in enumerate(names_of_weekday):\n",
    "    t = get_max_count(i)\n",
    "    print('{} \\ntimeslot {}'.format(name, t))\n",
    "    print()"
   ]
  },
  {
   "cell_type": "code",
   "execution_count": 12,
   "metadata": {},
   "outputs": [
    {
     "name": "stdout",
     "output_type": "stream",
     "text": [
      "Mon \n",
      "timeslot 00:00:00\n",
      "\n",
      "Tue \n",
      "timeslot 07:05:00\n",
      "\n",
      "Wed \n",
      "timeslot 09:30:00\n",
      "\n",
      "Thu \n",
      "timeslot 07:00:00\n",
      "\n",
      "Fri \n",
      "timeslot 07:00:00\n",
      "\n",
      "Sat \n",
      "timeslot 00:00:00\n",
      "\n",
      "Sun \n",
      "timeslot 07:05:00\n",
      "\n"
     ]
    }
   ],
   "source": [
    "# print the result for test data\n",
    "names_of_weekday = ['Mon', 'Tue', 'Wed', 'Thu', 'Fri', 'Sat', 'Sun']\n",
    "for i, name in enumerate(names_of_weekday):\n",
    "    t = get_min_count(i)\n",
    "    print('{} \\ntimeslot {}'.format(name, t))\n",
    "    print()"
   ]
  },
  {
   "cell_type": "code",
   "execution_count": null,
   "metadata": {},
   "outputs": [],
   "source": []
  }
 ],
 "metadata": {
  "kernelspec": {
   "display_name": "Python 3",
   "language": "python",
   "name": "python3"
  },
  "language_info": {
   "codemirror_mode": {
    "name": "ipython",
    "version": 3
   },
   "file_extension": ".py",
   "mimetype": "text/x-python",
   "name": "python",
   "nbconvert_exporter": "python",
   "pygments_lexer": "ipython3",
   "version": "3.6.5"
  }
 },
 "nbformat": 4,
 "nbformat_minor": 2
}
